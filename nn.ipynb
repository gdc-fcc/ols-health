{
 "cells": [
  {
   "cell_type": "code",
   "execution_count": 1,
   "id": "f2a1b9fa",
   "metadata": {},
   "outputs": [
    {
     "name": "stderr",
     "output_type": "stream",
     "text": [
      "2025-07-06 18:35:37.659688: I tensorflow/tsl/cuda/cudart_stub.cc:28] Could not find cuda drivers on your machine, GPU will not be used.\n",
      "2025-07-06 18:35:38.230238: I tensorflow/tsl/cuda/cudart_stub.cc:28] Could not find cuda drivers on your machine, GPU will not be used.\n",
      "2025-07-06 18:35:38.233835: I tensorflow/core/platform/cpu_feature_guard.cc:182] This TensorFlow binary is optimized to use available CPU instructions in performance-critical operations.\n",
      "To enable the following instructions: AVX2 FMA, in other operations, rebuild TensorFlow with the appropriate compiler flags.\n",
      "2025-07-06 18:35:40.224471: W tensorflow/compiler/tf2tensorrt/utils/py_utils.cc:38] TF-TRT Warning: Could not find TensorRT\n"
     ]
    }
   ],
   "source": [
    "import matplotlib.pyplot as plt\n",
    "import numpy as np\n",
    "import pandas as pd\n",
    "import tensorflow as tf\n",
    "from tensorflow import keras\n",
    "from tensorflow.keras import layers"
   ]
  },
  {
   "cell_type": "code",
   "execution_count": null,
   "id": "c18d0a07",
   "metadata": {},
   "outputs": [
    {
     "name": "stdout",
     "output_type": "stream",
     "text": [
      "      age  sex   bmi  children  smoker  expenses  r_0  r_1  r_2  r_3\n",
      "1333   50    1  31.0         3       0  10600.55    0    1    0    0\n",
      "1334   18    0  31.9         0       0   2205.98    1    0    0    0\n",
      "1335   18    0  36.9         0       0   1629.83    0    0    1    0\n",
      "1336   21    0  25.8         0       0   2007.95    0    0    0    1\n",
      "1337   61    0  29.1         0       1  29141.36    0    1    0    0\n"
     ]
    }
   ],
   "source": [
    "dataset = pd.read_csv('insurance.csv')\n",
    "dataset[\"smoker\"] = dataset[\"smoker\"].map({\"yes\": 1, \"no\": 0})\n",
    "dataset[\"sex\"] = dataset[\"sex\"].map({\"male\": 1, \"female\": 0})\n",
    "dataset[\"region\"] = dataset[\"region\"].map({\n",
    "    \"northeast\": 0,\n",
    "    \"northwest\": 1,\n",
    "    \"southeast\": 2,\n",
    "    \"southwest\": 3\n",
    "})\n",
    "dataset = pd.get_dummies(dataset, columns=[\"region\"], prefix='r', prefix_sep='_')\n",
    "# 1 hot encoding for smoker?\n",
    "print(dataset.tail())"
   ]
  }
 ],
 "metadata": {
  "kernelspec": {
   "display_name": "base",
   "language": "python",
   "name": "python3"
  },
  "language_info": {
   "codemirror_mode": {
    "name": "ipython",
    "version": 3
   },
   "file_extension": ".py",
   "mimetype": "text/x-python",
   "name": "python",
   "nbconvert_exporter": "python",
   "pygments_lexer": "ipython3",
   "version": "3.8.5"
  }
 },
 "nbformat": 4,
 "nbformat_minor": 5
}
